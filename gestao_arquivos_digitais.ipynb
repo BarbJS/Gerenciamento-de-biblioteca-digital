{
  "nbformat": 4,
  "nbformat_minor": 0,
  "metadata": {
    "colab": {
      "provenance": [],
      "authorship_tag": "ABX9TyNoC0ODn7UdAs8XQcnrOCso",
      "include_colab_link": true
    },
    "kernelspec": {
      "name": "python3",
      "display_name": "Python 3"
    },
    "language_info": {
      "name": "python"
    }
  },
  "cells": [
    {
      "cell_type": "markdown",
      "metadata": {
        "id": "view-in-github",
        "colab_type": "text"
      },
      "source": [
        "<a href=\"https://colab.research.google.com/github/BarbJS/Gerenciamento-de-biblioteca-digital/blob/main/gestao_arquivos_digitais.ipynb\" target=\"_parent\"><img src=\"https://colab.research.google.com/assets/colab-badge.svg\" alt=\"Open In Colab\"/></a>"
      ]
    },
    {
      "cell_type": "markdown",
      "source": [
        "## *Projeto: Sistema de gerenciamento de biblioteca digital*"
      ],
      "metadata": {
        "id": "3Mf356LQNqP-"
      }
    },
    {
      "cell_type": "code",
      "source": [
        "# -*- coding: utf-8 -*-\n",
        "# Importando as bibliotecas necessárias\n",
        "import os  # Biblioteca para interagir com o sistema operacional (criar pastas, listar arquivos)\n",
        "import shutil  # Biblioteca para operações de alto nível com arquivos (mover arquivos)\n",
        "import re  # Biblioteca para trabalhar com expressões regulares (usaremos para achar o ano no nome do arquivo)\n",
        "import datetime  # Biblioteca para trabalhar com datas e horas (usaremos para pegar o ano atual)"
      ],
      "metadata": {
        "id": "k1yP8EQGDAwR"
      },
      "execution_count": null,
      "outputs": []
    }
  ]
}