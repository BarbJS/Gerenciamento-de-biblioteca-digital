{
  "nbformat": 4,
  "nbformat_minor": 0,
  "metadata": {
    "colab": {
      "provenance": [],
      "authorship_tag": "ABX9TyMftRgpMMqAMYvRQGxR9n7z",
      "include_colab_link": true
    },
    "kernelspec": {
      "name": "python3",
      "display_name": "Python 3"
    },
    "language_info": {
      "name": "python"
    }
  },
  "cells": [
    {
      "cell_type": "markdown",
      "metadata": {
        "id": "view-in-github",
        "colab_type": "text"
      },
      "source": [
        "<a href=\"https://colab.research.google.com/github/BarbJS/Gerenciamento-de-biblioteca-digital/blob/main/gestao_arquivos_digitais.ipynb\" target=\"_parent\"><img src=\"https://colab.research.google.com/assets/colab-badge.svg\" alt=\"Open In Colab\"/></a>"
      ]
    },
    {
      "cell_type": "markdown",
      "source": [
        "## *Projeto: Sistema de gerenciamento de biblioteca digital*"
      ],
      "metadata": {
        "id": "3Mf356LQNqP-"
      }
    },
    {
      "cell_type": "code",
      "source": [
        "# -*- coding: utf-8 -*-\n",
        "# Importando as bibliotecas necessárias\n",
        "import os  # Biblioteca para interagir com o sistema operacional (criar pastas, listar arquivos)\n",
        "import shutil  # Biblioteca para operações de alto nível com arquivos (mover arquivos)\n",
        "import re  # Biblioteca para trabalhar com expressões regulares (usaremos para achar o ano no nome do arquivo)\n",
        "import datetime  # Biblioteca para trabalhar com datas e horas (usaremos para pegar o ano atual)"
      ],
      "metadata": {
        "id": "k1yP8EQGDAwR"
      },
      "execution_count": null,
      "outputs": []
    },
    {
      "cell_type": "code",
      "source": [
        "# --- CONFIGURAÇÃO INICIAL DAS PASTAS ---\n",
        "# Prints para guiar o usuário na configuração inicial\n",
        "print(\"=\"*50)\n",
        "print(\"Bem-vindo ao Sistema de Gestão de Documentos da Biblioteca!\")\n",
        "print(\"=\"*50)\n",
        "print(\"\\nPASSO 1: Vamos configurar as pastas de trabalho.\")\n",
        "\n",
        "# Define o nome da pasta onde os arquivos a serem organizados ficarão.\n",
        "# Esta pasta será criada no ambiente do Colab.\n",
        "PASTA_ORIGEM_LOCAL = 'arquivos_para_organizar'\n",
        "\n",
        "# Define o nome da pasta onde os arquivos já organizados serão guardados.\n",
        "PASTA_DESTINO = 'biblioteca_organizada'\n",
        "\n",
        "# Verifica se a pasta de origem já existe. Se não existir, ela é criada.\n",
        "if not os.path.exists(PASTA_ORIGEM_LOCAL):\n",
        "    os.makedirs(PASTA_ORIGEM_LOCAL) # Cria a pasta.\n",
        "    print(f\"Pasta '{PASTA_ORIGEM_LOCAL}' criada com sucesso! Por favor, adicione seus arquivos aqui.\")\n",
        "else:\n",
        "    print(f\"Pasta '{PASTA_ORIGEM_LOCAL}' já existe. Pronto para receber os arquivos.\")\n",
        "\n",
        "# Verifica se a pasta de destino já existe. Se não existir, ela é criada.\n",
        "if not os.path.exists(PASTA_DESTINO):\n",
        "    os.makedirs(PASTA_DESTINO) # Cria a pasta.\n",
        "    print(f\"Pasta '{PASTA_DESTINO}' criada com sucesso! Aqui ficarão seus arquivos organizados.\")\n",
        "else:\n",
        "    print(f\"Pasta '{PASTA_DESTINO}' já existe. Os arquivos organizados serão salvos aqui.\")\n",
        "\n",
        "print(\"\\nConfiguração inicial concluída!\")\n",
        "print(\"-\" * 50)"
      ],
      "metadata": {
        "id": "Lbu_KAnlhcVy"
      },
      "execution_count": null,
      "outputs": []
    }
  ]
}